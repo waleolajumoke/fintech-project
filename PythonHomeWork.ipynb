{
  "nbformat": 4,
  "nbformat_minor": 0,
  "metadata": {
    "colab": {
      "provenance": []
    },
    "kernelspec": {
      "name": "python3",
      "display_name": "Python 3"
    },
    "language_info": {
      "name": "python"
    }
  },
  "cells": [
    {
      "cell_type": "code",
      "execution_count": null,
      "metadata": {
        "id": "EfIWV1qFnu1n"
      },
      "outputs": [],
      "source": [
        "# variable is used to store data - e.g\n",
        "#1. variable cannot start with 2numbers\n",
        "#2. Variable names can not contain spaces e.g first name\n",
        "#3. variable  name should not be a reserved word - e.g class feel free to google reserve words to see full list\n",
        "#4. Variable name should be descriptive e.g Tp or random unknown acronyms\n",
        "#5. variable names can't contain symbols except underscore e.g !?@^&*()etc"
      ]
    },
    {
      "cell_type": "code",
      "source": [
        "#Write a program that extracts backtech from the code below\n",
        "website  = 'https://blacktechacademy.ca&#39;'\n",
        "#expected result:\n",
        "\n",
        "website[8:17]\n"
      ],
      "metadata": {
        "colab": {
          "base_uri": "https://localhost:8080/",
          "height": 36
        },
        "id": "oY7NWgYPoK4U",
        "outputId": "a274f7ef-2157-4955-c46f-40478e604718"
      },
      "execution_count": 11,
      "outputs": [
        {
          "output_type": "execute_result",
          "data": {
            "text/plain": [
              "'blacktech'"
            ],
            "application/vnd.google.colaboratory.intrinsic+json": {
              "type": "string"
            }
          },
          "metadata": {},
          "execution_count": 11
        }
      ]
    },
    {
      "cell_type": "code",
      "source": [
        "#Print out the numbers in the data below\n",
        "data = \"1:A 2:B 3:C 4:D 5:E\"\n",
        "#Expected result: 12345\n",
        "\n",
        "data[0::4]\n",
        "\n"
      ],
      "metadata": {
        "colab": {
          "base_uri": "https://localhost:8080/",
          "height": 36
        },
        "id": "ZtfFFCjKqcPr",
        "outputId": "8dc27577-2248-4311-8ec1-3d571621f472"
      },
      "execution_count": 10,
      "outputs": [
        {
          "output_type": "execute_result",
          "data": {
            "text/plain": [
              "'12345'"
            ],
            "application/vnd.google.colaboratory.intrinsic+json": {
              "type": "string"
            }
          },
          "metadata": {},
          "execution_count": 10
        }
      ]
    },
    {
      "cell_type": "code",
      "source": [
        " words = \"Life is Good\"\n",
        "#Convert the words to print \"Good is Life\"\n",
        "list=words.split()\n",
        "\n",
        "print(\" \".join(list[::-1]))\n",
        "\n"
      ],
      "metadata": {
        "colab": {
          "base_uri": "https://localhost:8080/"
        },
        "id": "mboXegChqzsl",
        "outputId": "486090a5-ce05-4685-857f-1b7629245804"
      },
      "execution_count": 14,
      "outputs": [
        {
          "output_type": "stream",
          "name": "stdout",
          "text": [
            "Good is Life\n"
          ]
        }
      ]
    },
    {
      "cell_type": "code",
      "source": [
        " sample = 'My Name is Wale'\n",
        "#bring out the wale in the sample above in reverse eg. \"elaW\"\n",
        "sample\n",
        "\n",
        "sample[-1:-5:-1]\n",
        "\n",
        "\n"
      ],
      "metadata": {
        "colab": {
          "base_uri": "https://localhost:8080/",
          "height": 36
        },
        "id": "Iw81QgPKtQtb",
        "outputId": "94b0eb01-4570-4ec7-be24-605361135183"
      },
      "execution_count": 36,
      "outputs": [
        {
          "output_type": "execute_result",
          "data": {
            "text/plain": [
              "'elaW'"
            ],
            "application/vnd.google.colaboratory.intrinsic+json": {
              "type": "string"
            }
          },
          "metadata": {},
          "execution_count": 36
        }
      ]
    }
  ]
}